{
  "nbformat": 4,
  "nbformat_minor": 0,
  "metadata": {
    "colab": {
      "provenance": []
    },
    "kernelspec": {
      "name": "python3",
      "display_name": "Python 3"
    },
    "language_info": {
      "name": "python"
    }
  },
  "cells": [
    {
      "cell_type": "code",
      "execution_count": 15,
      "metadata": {
        "id": "SfO6iopi3mky"
      },
      "outputs": [],
      "source": [
        "from IPython.display import HTML, display\n",
        "\n",
        "def set_css():\n",
        "  display(HTML('''\n",
        "  <style>\n",
        "    pre {\n",
        "        white-space: pre-wrap;\n",
        "    }\n",
        "  </style>\n",
        "  '''))\n",
        "get_ipython().events.register('pre_run_cell',set_css)"
      ]
    },
    {
      "cell_type": "code",
      "source": [
        "!pip install transformers\n",
        "!pip install newspaper3k"
      ],
      "metadata": {
        "id": "S8r4ZphR646r"
      },
      "execution_count": null,
      "outputs": []
    },
    {
      "cell_type": "code",
      "source": [
        "from transformers import pipeline\n",
        "import os\n",
        "import nltk\n",
        "from nltk.corpus import stopwords\n",
        "from nltk.tokenize import word_tokenize, sent_tokenize\n",
        "from nltk.probability import FreqDist\n",
        "from heapq import nlargest\n",
        "nltk.download('punkt')\n",
        "nltk.download('stopwords')\n",
        "from newspaper import Article\n",
        "\n",
        "os.environ[\"CUDA_VISIBLE_DEVICES\"] = \"0\""
      ],
      "metadata": {
        "colab": {
          "base_uri": "https://localhost:8080/",
          "height": 86
        },
        "id": "C2Jm8SgM3zPj",
        "outputId": "7ad2463c-9935-4752-b3e2-ea2cf36b8f60"
      },
      "execution_count": 20,
      "outputs": [
        {
          "output_type": "display_data",
          "data": {
            "text/plain": [
              "<IPython.core.display.HTML object>"
            ],
            "text/html": [
              "\n",
              "  <style>\n",
              "    pre {\n",
              "        white-space: pre-wrap;\n",
              "    }\n",
              "  </style>\n",
              "  "
            ]
          },
          "metadata": {}
        },
        {
          "output_type": "stream",
          "name": "stderr",
          "text": [
            "[nltk_data] Downloading package punkt to /root/nltk_data...\n",
            "[nltk_data]   Package punkt is already up-to-date!\n",
            "[nltk_data] Downloading package stopwords to /root/nltk_data...\n",
            "[nltk_data]   Package stopwords is already up-to-date!\n"
          ]
        }
      ]
    },
    {
      "cell_type": "code",
      "source": [
        "summarizer = pipeline(\"summarization\")"
      ],
      "metadata": {
        "colab": {
          "base_uri": "https://localhost:8080/",
          "height": 52
        },
        "id": "RZBsci6239-i",
        "outputId": "d1b071d1-9888-4c29-c3e4-91f3499648c3"
      },
      "execution_count": 22,
      "outputs": [
        {
          "output_type": "display_data",
          "data": {
            "text/plain": [
              "<IPython.core.display.HTML object>"
            ],
            "text/html": [
              "\n",
              "  <style>\n",
              "    pre {\n",
              "        white-space: pre-wrap;\n",
              "    }\n",
              "  </style>\n",
              "  "
            ]
          },
          "metadata": {}
        },
        {
          "output_type": "stream",
          "name": "stderr",
          "text": [
            "No model was supplied, defaulted to sshleifer/distilbart-cnn-12-6 and revision a4f8f3e (https://huggingface.co/sshleifer/distilbart-cnn-12-6).\n",
            "Using a pipeline without specifying a model name and revision in production is not recommended.\n"
          ]
        }
      ]
    },
    {
      "cell_type": "code",
      "source": [
        "summarizer = pipeline(\"summarization\", model=\"t5-base\", tokenizer=\"t5-base\", framework=\"tf\")"
      ],
      "metadata": {
        "colab": {
          "base_uri": "https://localhost:8080/",
          "height": 208
        },
        "id": "0dcf53tj4DWe",
        "outputId": "797a5148-870c-40f9-e3ab-e912d8258859"
      },
      "execution_count": 23,
      "outputs": [
        {
          "output_type": "display_data",
          "data": {
            "text/plain": [
              "<IPython.core.display.HTML object>"
            ],
            "text/html": [
              "\n",
              "  <style>\n",
              "    pre {\n",
              "        white-space: pre-wrap;\n",
              "    }\n",
              "  </style>\n",
              "  "
            ]
          },
          "metadata": {}
        },
        {
          "output_type": "stream",
          "name": "stderr",
          "text": [
            "All model checkpoint layers were used when initializing TFT5ForConditionalGeneration.\n",
            "\n",
            "All the layers of TFT5ForConditionalGeneration were initialized from the model checkpoint at t5-base.\n",
            "If your task is similar to the task the model of the checkpoint was trained on, you can already use TFT5ForConditionalGeneration for predictions without further training.\n",
            "/usr/local/lib/python3.9/dist-packages/transformers/models/t5/tokenization_t5_fast.py:155: FutureWarning: This tokenizer was incorrectly instantiated with a model max length of 512 which will be corrected in Transformers v5.\n",
            "For now, this behavior is kept to avoid breaking backwards compatibility when padding/encoding with `truncation is True`.\n",
            "- Be aware that you SHOULD NOT rely on t5-base automatically truncating your input to 512 when padding/encoding.\n",
            "- If you want to encode/pad to sequences longer than 512 you can either instantiate this tokenizer with `model_max_length` or pass `max_length` when encoding/padding.\n",
            "- To avoid this warning, please instantiate this tokenizer with `model_max_length` set to your preferred value.\n",
            "  warnings.warn(\n"
          ]
        }
      ]
    },
    {
      "cell_type": "code",
      "source": [
        "def summarize(text, num_sentences=10):\n",
        "    # tokenize the text into sentences and words\n",
        "    sentences = sent_tokenize(text)\n",
        "    words = word_tokenize(text.lower())\n",
        "\n",
        "    # remove stop words and punctuation from the words\n",
        "    stop_words = set(stopwords.words('english'))\n",
        "    words = [word for word in words if word.isalnum() and word not in stop_words]\n",
        "\n",
        "    # calculate word frequency\n",
        "    freq_dist = FreqDist(words)\n",
        "\n",
        "    # rank sentences by their importance\n",
        "    sentence_scores = {}\n",
        "    for i, sentence in enumerate(sentences):\n",
        "        sentence_words = word_tokenize(sentence.lower())\n",
        "        sentence_score = 0\n",
        "        for word in sentence_words:\n",
        "            if word in freq_dist:\n",
        "                sentence_score += freq_dist[word]\n",
        "        sentence_scores[i] = sentence_score\n",
        "\n",
        "    # select the top n sentences with highest scores to generate the summary\n",
        "    summary_indexes = nlargest(num_sentences, sentence_scores, key=sentence_scores.get)\n",
        "    summary_indexes.sort()\n",
        "    summary = [sentences[i] for i in summary_indexes]\n",
        "    return '.'.join(summary)"
      ],
      "metadata": {
        "colab": {
          "base_uri": "https://localhost:8080/",
          "height": 17
        },
        "id": "Gen7vcCp5EEu",
        "outputId": "20e838bb-df9d-4af5-a17e-0fd09bc8e248"
      },
      "execution_count": 24,
      "outputs": [
        {
          "output_type": "display_data",
          "data": {
            "text/plain": [
              "<IPython.core.display.HTML object>"
            ],
            "text/html": [
              "\n",
              "  <style>\n",
              "    pre {\n",
              "        white-space: pre-wrap;\n",
              "    }\n",
              "  </style>\n",
              "  "
            ]
          },
          "metadata": {}
        }
      ]
    },
    {
      "cell_type": "code",
      "source": [
        "url = 'https://www.vox.com/the-goods/2023/2/7/23588382/gautam-adani-hindenburg-research-india-modi-short-seller'\n",
        "article = Article(url)\n",
        "article.download()\n",
        "article.parse()\n",
        "article.nlp()\n",
        "title = article.title\n",
        "summ = summarize(article.text)"
      ],
      "metadata": {
        "colab": {
          "base_uri": "https://localhost:8080/",
          "height": 17
        },
        "id": "KYTjAtdP5Wtr",
        "outputId": "7dc0da01-110b-4f40-c728-60e0bada9947"
      },
      "execution_count": 25,
      "outputs": [
        {
          "output_type": "display_data",
          "data": {
            "text/plain": [
              "<IPython.core.display.HTML object>"
            ],
            "text/html": [
              "\n",
              "  <style>\n",
              "    pre {\n",
              "        white-space: pre-wrap;\n",
              "    }\n",
              "  </style>\n",
              "  "
            ]
          },
          "metadata": {}
        }
      ]
    },
    {
      "cell_type": "code",
      "source": [
        "print(summ)"
      ],
      "metadata": {
        "colab": {
          "base_uri": "https://localhost:8080/",
          "height": 520
        },
        "id": "smsYeFyY7l0h",
        "outputId": "62f83183-64ea-4f92-e60a-891797d68324"
      },
      "execution_count": 26,
      "outputs": [
        {
          "output_type": "display_data",
          "data": {
            "text/plain": [
              "<IPython.core.display.HTML object>"
            ],
            "text/html": [
              "\n",
              "  <style>\n",
              "    pre {\n",
              "        white-space: pre-wrap;\n",
              "    }\n",
              "  </style>\n",
              "  "
            ]
          },
          "metadata": {}
        },
        {
          "output_type": "stream",
          "name": "stdout",
          "text": [
            "On January 24, New York-based Hindenburg Research published a scathing 100-plus-page report making the case that Adani is “pulling the largest con in corporate history.” In it, Hindenburg, which was founded by activist short seller Nathan Anderson in 2017, alleges Adani Group has engaged in “brazen accounting fraud, stock manipulation, and money laundering” over the course of decades “with the help of enablers in government and a cottage industry of international companies that facilitate these activities.” It takes aim at seven companies listed by Adani that have seen their stock prices surge over the past three years..Shares of Adani’s flagship firm, Adani Enterprises, have plunged, as have the stock prices of other Adani companies..Much of Adani’s wealth is tied up in his companies, and as their prices have fallen, so has his net worth\n",
            "\n",
            "Much of Adani’s wealth is tied up in his companies, and as their prices have fallen, so has his net worth..Adani has become one of the “poster children” for India’s economic growth prowess in recent years, said Milan Vaishnav, director and senior fellow of the South Asia program at the Carnegie Endowment for International Peace, explaining that the growth of Adani’s companies and his own personal wealth has reflected India’s..Shares of Adani’s companies have seen an astronomical rise over the past couple of years — that, along with Adani’s overall rise, has raised some eyebrows, even before Hindenburg’s report..The report includes that Gautam Adani’s brother, Vinod Adani, and close associates control more than three dozen shell entities in Mauritius and also identifies other entities that are “surreptitiously controlled” by Vinod Adani in the UAE, Singapore, and multiple Caribbean islands..“Some of these companies we have looked at, they don’t have any revenues at all.”\n",
            "\n",
            "How the Adani Group weathers the storm Hindenburg has brought upon it in the long term is still unclear, but in the short term, at the very least, many of its companies’ share prices have plunged, indicating that investors seem to be heeding Hindenburg’s warning..It is all in the stock price.”\n",
            "\n",
            "This is not great for Adani or for India\n",
            "\n",
            "India’s government has really not weighed in much on the Adani drama, saying the country’s banking industry remains stable and treating this as a markets issue..“How robust is this economic story if this one report can do this to one of the biggest national firms to exist?”\n",
            "\n",
            "India has seemed like a relatively safe bet, and an implosion of a conglomerate like Adani’s would “dramatically raise” the country’s risk profile, Vaishnav said..Bloomberg reported that Amitabh Kant, who is steering India’s preparation for the G20, in an interview on Monday said the scrutiny on Adani is a lesson for everyone that “we should believe in top class governance and we should open our books and records to everyone in the world.”\n",
            "\n",
            "Vaishnav noted that the Adani Group has a major role in India’s infrastructure buildout, “so if they disappear or are badly diminished, that turns into a nation-building dilemma for India, not simply a corporate governance irritant.”\n",
            "\n",
            "Bhaskar, the journalist and Adani biographer, said India has seen big companies face major challenges before, though not necessarily of this magnitude.\n"
          ]
        }
      ]
    },
    {
      "cell_type": "code",
      "source": [
        "summary_text = summarizer(summ, max_length=300, min_length=100, do_sample=False)[0]['summary_text']\n",
        "print(\"\\n\\n\\n\")\n",
        "print(summary_text)"
      ],
      "metadata": {
        "colab": {
          "base_uri": "https://localhost:8080/",
          "height": 225
        },
        "id": "_J7Doe2n4UZM",
        "outputId": "85fe66a9-cedd-4158-b5b3-96583df9b132"
      },
      "execution_count": 27,
      "outputs": [
        {
          "output_type": "display_data",
          "data": {
            "text/plain": [
              "<IPython.core.display.HTML object>"
            ],
            "text/html": [
              "\n",
              "  <style>\n",
              "    pre {\n",
              "        white-space: pre-wrap;\n",
              "    }\n",
              "  </style>\n",
              "  "
            ]
          },
          "metadata": {}
        },
        {
          "output_type": "stream",
          "name": "stderr",
          "text": [
            "Token indices sequence length is longer than the specified maximum sequence length for this model (776 > 512). Running this sequence through the model will result in indexing errors\n",
            "/usr/local/lib/python3.9/dist-packages/transformers/generation/tf_utils.py:745: UserWarning: You have modified the pretrained model configuration to control generation. This is a deprecated strategy to control generation and will be removed soon, in a future version. Please use a generation configuration file (see https://huggingface.co/docs/transformers/main_classes/text_generation)\n",
            "  warnings.warn(\n"
          ]
        },
        {
          "output_type": "stream",
          "name": "stdout",
          "text": [
            "\n",
            "\n",
            "\n",
            "\n",
            "a new report alleges that Adani is \"pulling the largest con in corporate history\" it takes aim at seven companies listed by Adani that have seen their stock prices surge . adani has become one of the \"poster children\" for india's economic growth prowess in recent years . an implosion of a conglomerate like Adani's would \"dramatically raise\" the country's risk profile, experts say .\n"
          ]
        }
      ]
    },
    {
      "cell_type": "code",
      "source": [],
      "metadata": {
        "id": "b0ZnBHmj5Brq"
      },
      "execution_count": null,
      "outputs": []
    },
    {
      "cell_type": "code",
      "source": [],
      "metadata": {
        "id": "llQCth2u4XRN"
      },
      "execution_count": null,
      "outputs": []
    }
  ]
}